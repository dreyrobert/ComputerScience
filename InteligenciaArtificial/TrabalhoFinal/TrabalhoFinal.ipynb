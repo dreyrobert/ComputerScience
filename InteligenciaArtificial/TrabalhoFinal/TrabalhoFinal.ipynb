{
 "cells": [
  {
   "cell_type": "code",
   "execution_count": 3,
   "metadata": {},
   "outputs": [
    {
     "name": "stdout",
     "output_type": "stream",
     "text": [
      "Arquivos CSV combinados com sucesso!\n"
     ]
    }
   ],
   "source": [
    "import pandas as pd\n",
    "import os\n",
    "\n",
    "csv_directory = '.\\\\csv'\n",
    "\n",
    "dataframes = []\n",
    "\n",
    "for filename in os.listdir(csv_directory):\n",
    "    if filename.endswith('.csv'):\n",
    "        filepath = os.path.join(csv_directory, filename)\n",
    "        df = pd.read_csv(filepath, sep=';')\n",
    "\n",
    "        df = df.drop(columns=['Class', 'Role %'])\n",
    "\n",
    "        dataframes.append(df)\n",
    "\n",
    "\n",
    "combined_df = pd.concat(dataframes, ignore_index=True)\n",
    "\n",
    "combined_df.to_csv('Season12LeagueOfLegends.csv', sep=';', index=False)\n",
    "\n",
    "print('Arquivos CSV combinados com sucesso!')\n"
   ]
  },
  {
   "cell_type": "code",
   "execution_count": 23,
   "metadata": {},
   "outputs": [
    {
     "name": "stdout",
     "output_type": "stream",
     "text": [
      "\n",
      "Classification Report:\n",
      "              precision    recall  f1-score   support\n",
      "\n",
      "           A       0.90      0.92      0.91       417\n",
      "           B       0.88      0.86      0.87       423\n",
      "           C       0.78      0.63      0.69       239\n",
      "           D       0.77      0.95      0.85       175\n",
      "         God       0.86      0.89      0.88       179\n",
      "           S       0.81      0.81      0.81       231\n",
      "\n",
      "    accuracy                           0.85      1664\n",
      "   macro avg       0.83      0.84      0.84      1664\n",
      "weighted avg       0.85      0.85      0.85      1664\n",
      "\n",
      "\n",
      "Confusion Matrix:\n",
      "[[383  10   0   0   0  24]\n",
      " [ 24 365  34   0   0   0]\n",
      " [  0  39 150  50   0   0]\n",
      " [  0   0   9 166   0   0]\n",
      " [  0   0   0   0 160  19]\n",
      " [ 18   0   0   0  25 188]]\n"
     ]
    }
   ],
   "source": [
    "import pandas as pd\n",
    "from sklearn.model_selection import train_test_split\n",
    "from sklearn.preprocessing import MinMaxScaler\n",
    "from sklearn.tree import DecisionTreeClassifier\n",
    "from sklearn.metrics import classification_report, confusion_matrix\n",
    "import joblib\n",
    "\n",
    "df = pd.read_csv('Season12LeagueOfLegends.csv', delimiter=';')\n",
    "\n",
    "percent_columns = ['Win %', 'Pick %', 'Ban %']\n",
    "for col in percent_columns:\n",
    "    df[col] = df[col].str.rstrip('%').astype('float')\n",
    "\n",
    "df_transformed = pd.get_dummies(df, columns=['Role', 'Name'], dtype=int)\n",
    "\n",
    "X = df_transformed.drop(columns=['Tier'])\n",
    "y = df_transformed['Tier']\n",
    "\n",
    "X_train, X_test, y_train, y_test = train_test_split(X, y, test_size=0.3, random_state=42)\n",
    "\n",
    "clf = DecisionTreeClassifier(random_state=42, max_depth=4, criterion='entropy', splitter='best', max_features=None)\n",
    "clf.fit(X_train, y_train)\n",
    "\n",
    "y_pred = clf.predict(X_test)\n",
    "\n",
    "print(\"\\nClassification Report:\")\n",
    "print(classification_report(y_test, y_pred))\n",
    "\n",
    "print(\"\\nConfusion Matrix:\")\n",
    "print(confusion_matrix(y_test, y_pred))\n",
    "\n",
    "joblib.dump(clf, 'decision_tree_model.pkl')\n",
    "\n",
    "train_data = pd.concat([X_train, y_train.reset_index(drop=True)], axis=1)\n",
    "test_data = pd.concat([X_test, y_test.reset_index(drop=True)], axis=1)\n",
    "\n",
    "train_data.to_csv('train_data.csv', index=False)\n",
    "test_data.to_csv('test_data.csv', index=False)\n"
   ]
  },
  {
   "cell_type": "code",
   "execution_count": 24,
   "metadata": {},
   "outputs": [
    {
     "data": {
      "text/plain": [
       "'decision_tree.pdf'"
      ]
     },
     "execution_count": 24,
     "metadata": {},
     "output_type": "execute_result"
    }
   ],
   "source": [
    "from sklearn import tree\n",
    "import graphviz\n",
    "import joblib\n",
    "\n",
    "model = joblib.load('decision_tree_model.pkl')\n",
    "\n",
    "dot_data = tree.export_graphviz(model, out_file=None, \n",
    "                                feature_names=X.columns,  \n",
    "                                class_names=model.classes_,  \n",
    "                                filled=True, rounded=True,  \n",
    "                                special_characters=True)  \n",
    "\n",
    "graph = graphviz.Source(dot_data)  \n",
    "\n",
    "graph.render(\"decision_tree\")\n",
    "\n",
    "graph.view()\n"
   ]
  }
 ],
 "metadata": {
  "kernelspec": {
   "display_name": "Python 3",
   "language": "python",
   "name": "python3"
  },
  "language_info": {
   "codemirror_mode": {
    "name": "ipython",
    "version": 3
   },
   "file_extension": ".py",
   "mimetype": "text/x-python",
   "name": "python",
   "nbconvert_exporter": "python",
   "pygments_lexer": "ipython3",
   "version": "3.12.2"
  }
 },
 "nbformat": 4,
 "nbformat_minor": 2
}
